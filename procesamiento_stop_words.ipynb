{
 "cells": [
  {
   "cell_type": "code",
   "execution_count": 6,
   "id": "6c3cb53a",
   "metadata": {},
   "outputs": [],
   "source": [
    "import spacy"
   ]
  },
  {
   "cell_type": "code",
   "execution_count": 20,
   "id": "898bf67e",
   "metadata": {},
   "outputs": [],
   "source": [
    "texto = 'La OC se emite en base a balances enviados, por lo que los balances ya se enviarían con horas cerradas, y para estos, las hojas de servicio también deben estar en horas cerradas para que no haya diferencia con lo que firma el cliente y lo que enviamos de balance.Como lo mencionas, para este cliente, creo que lo mejor es que desde que se firme el servicio ya sea en horas cerradas, aunque eso implicará que el Ingeniero permanezca tiempo adicional para cerrar la hora. '\n",
    "texto = texto.replace(',',' ')\n",
    "texto = texto.replace('.',' ')\n",
    "texto = texto.replace('\\n',' ')"
   ]
  },
  {
   "cell_type": "code",
   "execution_count": 32,
   "id": "5c2267d2",
   "metadata": {},
   "outputs": [
    {
     "name": "stdout",
     "output_type": "stream",
     "text": [
      "La OC se emite en base a balances enviados  por lo que los balances ya se enviarían con horas cerradas  y para estos  las hojas de servicio también deben estar en horas cerradas para que no haya diferencia con lo que firma el cliente y lo que enviamos de balance Como lo mencionas  para este cliente  creo que lo mejor es que desde que se firme el servicio ya sea en horas cerradas  aunque eso implicará que el Ingeniero permanezca tiempo adicional para cerrar la hora  \n"
     ]
    }
   ],
   "source": [
    "print(texto)"
   ]
  },
  {
   "cell_type": "code",
   "execution_count": 22,
   "id": "74810ace",
   "metadata": {},
   "outputs": [],
   "source": [
    "pln = spacy.load('es_core_news_sm')#accede al diccionario en español "
   ]
  },
  {
   "cell_type": "code",
   "execution_count": 23,
   "id": "a48fb446",
   "metadata": {},
   "outputs": [],
   "source": [
    "doc = pln(texto)"
   ]
  },
  {
   "cell_type": "code",
   "execution_count": 29,
   "id": "afea9c7e",
   "metadata": {},
   "outputs": [],
   "source": [
    "#for palabra in doc: #imprime palabras con su clase \n",
    " #   print(palabra, palabra.pos_)"
   ]
  },
  {
   "cell_type": "code",
   "execution_count": 25,
   "id": "9db3fb17",
   "metadata": {},
   "outputs": [],
   "source": [
    "#for frases in doc.sents:#separa en frases por . \n",
    " #   print(frases)"
   ]
  },
  {
   "cell_type": "code",
   "execution_count": 26,
   "id": "fafc2fa5",
   "metadata": {},
   "outputs": [
    {
     "name": "stdout",
     "output_type": "stream",
     "text": [
      "La OC\n",
      "base a balances enviados\n",
      "lo que\n",
      "los balances\n",
      "horas cerradas  \n",
      "las hojas\n",
      "servicio\n",
      "horas cerradas\n",
      "que\n",
      "el cliente\n",
      "que\n",
      "balance\n",
      "Como lo mencionas\n",
      "este cliente\n",
      "el servicio\n",
      "eso\n",
      "el Ingeniero\n",
      "permanezca tiempo adicional\n",
      "la hora\n"
     ]
    }
   ],
   "source": [
    "for partes in doc.noun_chunks: #componentes principales de una frase \n",
    "    print(partes)"
   ]
  },
  {
   "cell_type": "code",
   "execution_count": 27,
   "id": "2b967e01",
   "metadata": {},
   "outputs": [],
   "source": [
    "#sacando palabras clave \n",
    "palabras_clave = [palabras_clave for palabras_clave in doc if not palabras_clave.is_stop]"
   ]
  },
  {
   "cell_type": "code",
   "execution_count": 31,
   "id": "06bab68a",
   "metadata": {},
   "outputs": [
    {
     "name": "stdout",
     "output_type": "stream",
     "text": [
      "[OC, emite, base, a, balances, enviados,  , balances, enviarían, cerradas,  , y,  , hojas, servicio, cerradas, diferencia, firma, cliente, y, enviamos, balance, mencionas,  , cliente,  , firme, servicio, cerradas,  , implicará, Ingeniero, permanezca, adicional, cerrar, hora,  ]\n"
     ]
    }
   ],
   "source": [
    "print(palabras_clave)"
   ]
  },
  {
   "cell_type": "code",
   "execution_count": null,
   "id": "247e4e2e",
   "metadata": {},
   "outputs": [],
   "source": []
  }
 ],
 "metadata": {
  "kernelspec": {
   "display_name": "Python 3 (ipykernel)",
   "language": "python",
   "name": "python3"
  },
  "language_info": {
   "codemirror_mode": {
    "name": "ipython",
    "version": 3
   },
   "file_extension": ".py",
   "mimetype": "text/x-python",
   "name": "python",
   "nbconvert_exporter": "python",
   "pygments_lexer": "ipython3",
   "version": "3.9.7"
  }
 },
 "nbformat": 4,
 "nbformat_minor": 5
}
